{
  "nbformat": 4,
  "nbformat_minor": 0,
  "metadata": {
    "colab": {
      "name": "Linear_Regression.ipynb",
      "provenance": [],
      "authorship_tag": "ABX9TyNbvJH+0aXe/0oTogPaeWt+",
      "include_colab_link": true
    },
    "kernelspec": {
      "name": "python3",
      "display_name": "Python 3"
    }
  },
  "cells": [
    {
      "cell_type": "markdown",
      "metadata": {
        "id": "view-in-github",
        "colab_type": "text"
      },
      "source": [
        "<a href=\"https://colab.research.google.com/github/PRAJWAL2108/MACHINE-LEARNING/blob/main/Linear_Regression.ipynb\" target=\"_parent\"><img src=\"https://colab.research.google.com/assets/colab-badge.svg\" alt=\"Open In Colab\"/></a>"
      ]
    },
    {
      "cell_type": "markdown",
      "metadata": {
        "id": "ou2kQPgLcHd5"
      },
      "source": [
        "# IMPORTING THE NECESSARY LIBRARIES\n",
        "*   Here, we import all the necessary libraries required for our program.\n",
        "*   We are importing the numpy library, matplotlib library and the pandas library. These 3 are the essential libraries required for all machine learning programs/code.\n",
        "*   numpy is used for number processing.\n",
        "*   matplotlib is used for data visualization.\n",
        "*   pandas is used for data analysis (makes use of inferential and descriptive statistics)."
      ]
    },
    {
      "cell_type": "code",
      "metadata": {
        "id": "OUjO_DvqQ1mx"
      },
      "source": [
        "import matplotlib\n",
        "import matplotlib.pyplot as plt\n",
        "import numpy as np\n",
        "import pandas as pd\n",
        "import sklearn\n",
        "from sklearn import linear_model"
      ],
      "execution_count": 1,
      "outputs": []
    },
    {
      "cell_type": "markdown",
      "metadata": {
        "id": "jGQCIsPucOPf"
      },
      "source": [
        "# CREATING THE DATASET\n",
        "*   Here, we will be creating our own dataset instead of importing one.\n",
        "* We have selected 2 data values in our dataset i.e., height and weight.\n",
        "* We will be plotting the graph with help of matplotlob library available in python.\n",
        "* Height(in ft.) is represented on x-axis.\n",
        "* Weight(in kg.) is represented on y-axis.\n",
        "* "
      ]
    },
    {
      "cell_type": "code",
      "metadata": {
        "id": "_uy9cUU0TekA",
        "colab": {
          "base_uri": "https://localhost:8080/",
          "height": 296
        },
        "outputId": "bfe12d53-8097-405e-bdc6-97d8b4c1fa91"
      },
      "source": [
        "height=[[4.0],[5.0],[6.0],[7.0],[8.0],[9.0],[10.0]]\n",
        "weight=[  16, 25 , 36, 49, 64, 81, 100]\n",
        "plt.scatter(height,weight,color='black')\n",
        "plt.xlabel(\"height\")\n",
        "plt.ylabel(\"weight\")"
      ],
      "execution_count": 2,
      "outputs": [
        {
          "output_type": "execute_result",
          "data": {
            "text/plain": [
              "Text(0, 0.5, 'weight')"
            ]
          },
          "metadata": {
            "tags": []
          },
          "execution_count": 2
        },
        {
          "output_type": "display_data",
          "data": {
            "image/png": "[encoded data removed]",
            "text/plain": [
              "<Figure size 432x288 with 1 Axes>"
            ]
          },
          "metadata": {
            "tags": [],
            "needs_background": "light"
          }
        }
      ]
    },
    {
      "cell_type": "markdown",
      "metadata": {
        "id": "w1lI1XE-lBZ8"
      },
      "source": [
        "* From the above obtained graph, we can see an exponential increase in the values.\n",
        "* The obtained curve is in form of y = x^2 + c."
      ]
    },
    {
      "cell_type": "markdown",
      "metadata": {
        "id": "ol8JWUEJcXFb"
      },
      "source": [
        "# IDENTIFYING THE ALGORITHM AND TRAINING THE MODEL\n",
        "*   In this step, we need to identify the algorithm that suites the given problem.\n",
        "*   Here, we will be using the Linear Regression Algorithm. \n",
        "*   After identifying the algorithm, we need to train the model using .fit() method."
      ]
    },
    {
      "cell_type": "code",
      "metadata": {
        "colab": {
          "base_uri": "https://localhost:8080/"
        },
        "id": "QYVvxLuVTjQi",
        "outputId": "0280d4cf-ea1f-4933-d563-0b5f3aa75445"
      },
      "source": [
        "reg=linear_model.LinearRegression()\n",
        "reg.fit(height,weight)"
      ],
      "execution_count": 3,
      "outputs": [
        {
          "output_type": "execute_result",
          "data": {
            "text/plain": [
              "LinearRegression(copy_X=True, fit_intercept=True, n_jobs=None, normalize=False)"
            ]
          },
          "metadata": {
            "tags": []
          },
          "execution_count": 3
        }
      ]
    },
    {
      "cell_type": "markdown",
      "metadata": {
        "id": "5weQQCiCcoh7"
      },
      "source": [
        "# TESTING THE MODEL\n",
        "*   In this step, we will test the model by giving new set of input data.\n",
        "*   We will use the .predict() method to test the data.\n",
        "* We are predicting the weight if a person by giving the height as 12."
      ]
    },
    {
      "cell_type": "code",
      "metadata": {
        "colab": {
          "base_uri": "https://localhost:8080/"
        },
        "id": "VU6cQd2xcgTc",
        "outputId": "fa2623c6-f16c-4f58-94b4-16594964e73a"
      },
      "source": [
        "X_height=[[12.0]]\n",
        "print(reg.predict(X_height))"
      ],
      "execution_count": 4,
      "outputs": [
        {
          "output_type": "stream",
          "text": [
            "[123.]\n"
          ],
          "name": "stdout"
        }
      ]
    }
  ]
}