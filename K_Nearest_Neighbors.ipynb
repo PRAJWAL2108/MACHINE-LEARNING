{
  "nbformat": 4,
  "nbformat_minor": 0,
  "metadata": {
    "colab": {
      "name": "K_Nearest_Neighbors.ipynb",
      "provenance": [],
      "authorship_tag": "ABX9TyOYCkdEd/InG1HIZJTJbC6w",
      "include_colab_link": true
    },
    "kernelspec": {
      "name": "python3",
      "display_name": "Python 3"
    }
  },
  "cells": [
    {
      "cell_type": "markdown",
      "metadata": {
        "id": "view-in-github",
        "colab_type": "text"
      },
      "source": [
        "<a href=\"https://colab.research.google.com/github/PRAJWAL2108/MACHINE-LEARNING/blob/main/K_Nearest_Neighbors.ipynb\" target=\"_parent\"><img src=\"https://colab.research.google.com/assets/colab-badge.svg\" alt=\"Open In Colab\"/></a>"
      ]
    },
    {
      "cell_type": "markdown",
      "metadata": {
        "id": "ou2kQPgLcHd5"
      },
      "source": [
        "# IMPORTING THE NECESSARY LIBRARIES\n",
        "*   Here, we import all the necessary libraries required for our program.\n",
        "*   We are importing the numpy library, matplotlib library and the pandas library. These 3 are the essential libraries required for all machine learning programs/code.\n",
        "*   numpy is used for number processing.\n",
        "*   matplotlib is used for data visualization.\n",
        "*   pandas is used for data analysis (makes use of inferential and descriptive statistics)."
      ]
    },
    {
      "cell_type": "code",
      "metadata": {
        "id": "OUjO_DvqQ1mx"
      },
      "source": [
        "import numpy as np\n",
        "import matplotlib.pyplot as plt\n",
        "import pandas as pd"
      ],
      "execution_count": 1,
      "outputs": []
    },
    {
      "cell_type": "markdown",
      "metadata": {
        "id": "jGQCIsPucOPf"
      },
      "source": [
        "# IMPORTING THE DATASET\n",
        "*   The csv file we are uploading here is Social_Networks_Ads\n",
        "*   After uploading the csv file, we will read the contents of the file using read_csv command.\n",
        "*   Now, we need to assign data values to variable x and variable y.\n",
        "*   Features i.e., inputs are assigned to X variable. Labels i.e., output is assigned to Y variable.\n",
        "*   We are assigning column 2 and column 3 (Age and Estimated Salary) as data values to variable x.\n",
        "*   We are assigning column 4 (Purchased) to variable y."
      ]
    },
    {
      "cell_type": "code",
      "metadata": {
        "id": "_uy9cUU0TekA"
      },
      "source": [
        "dataset = pd.read_csv('7. Social_Network_Ads.csv')\n",
        "X = dataset.iloc[:, [2, 3]].values\n",
        "y = dataset.iloc[:, 4].values"
      ],
      "execution_count": 2,
      "outputs": []
    },
    {
      "cell_type": "markdown",
      "metadata": {
        "id": "nO94sDHycSDu"
      },
      "source": [
        "# SPLITTING THE DATA INTO TEST SET AND TRAIN SET.\n",
        "*   The dataset has to be split into 2 groups i.e., the test set and train set.\n",
        "*   Train Set is used to build and test the model.\n",
        "*   Test Set is used to test the model by providing new set of inputs.\n",
        "*   We will import the train_test_split class from the sklearn library.\n",
        "*   25% of dataset is allocated for testing and the rest 75% is allocated for training.\n",
        "*   We are using the StandardScaler class to get the data on a common platform. This step is optional.\n"
      ]
    },
    {
      "cell_type": "code",
      "metadata": {
        "id": "aFrvAdT4Tfq3"
      },
      "source": [
        "from sklearn.model_selection import train_test_split\n",
        "X_train, X_test, y_train, y_test = train_test_split(X, y, test_size = 0.25, random_state = 0)\n",
        "from sklearn.preprocessing import StandardScaler\n",
        "sc = StandardScaler()\n",
        "X_train = sc.fit_transform(X_train)\n",
        "X_test = sc.transform(X_test)"
      ],
      "execution_count": 3,
      "outputs": []
    },
    {
      "cell_type": "markdown",
      "metadata": {
        "id": "ol8JWUEJcXFb"
      },
      "source": [
        "# IDENTIFYING THE ALGORITHM AND TRAINING THE MODEL\n",
        "*   In this step, we need to identify the algorithm that suites the given problem.\n",
        "*   Here, we will be using the K-Nearest Neighbors Algorithm. \n",
        "*   After identifying the algorithm, we need to train the model using .fit() method."
      ]
    },
    {
      "cell_type": "code",
      "metadata": {
        "colab": {
          "base_uri": "https://localhost:8080/"
        },
        "id": "QYVvxLuVTjQi",
        "outputId": "2e021570-b90c-4686-aa27-56049956d6fc"
      },
      "source": [
        "from sklearn.neighbors import KNeighborsClassifier\n",
        "classifier = KNeighborsClassifier(n_neighbors = 5, metric = 'minkowski', p = 2)\n",
        "classifier.fit(X_train, y_train)"
      ],
      "execution_count": 4,
      "outputs": [
        {
          "output_type": "execute_result",
          "data": {
            "text/plain": [
              "KNeighborsClassifier(algorithm='auto', leaf_size=30, metric='minkowski',\n",
              "                     metric_params=None, n_jobs=None, n_neighbors=5, p=2,\n",
              "                     weights='uniform')"
            ]
          },
          "metadata": {
            "tags": []
          },
          "execution_count": 4
        }
      ]
    },
    {
      "cell_type": "markdown",
      "metadata": {
        "id": "5weQQCiCcoh7"
      },
      "source": [
        "# TESTING THE MODEL\n",
        "*   In this step, we will test the model by giving new set of input data.\n",
        "*   We will use the .predict() method to test the data."
      ]
    },
    {
      "cell_type": "code",
      "metadata": {
        "colab": {
          "base_uri": "https://localhost:8080/"
        },
        "id": "VU6cQd2xcgTc",
        "outputId": "66f6d210-42e1-4fc9-eb26-9dad946066a1"
      },
      "source": [
        "y_pred = classifier.predict(X_test)\n",
        "print(y_pred)"
      ],
      "execution_count": 5,
      "outputs": [
        {
          "output_type": "stream",
          "text": [
            "[0 0 0 0 0 0 0 1 0 1 0 0 0 0 0 1 0 0 1 0 0 1 0 1 0 1 0 0 0 0 0 0 1 0 0 0 0\n",
            " 0 0 1 0 0 0 0 1 0 0 1 0 1 1 0 0 1 1 1 0 0 1 0 0 1 0 1 0 1 0 0 0 0 1 0 0 1\n",
            " 0 0 0 0 1 1 1 1 0 0 1 0 0 1 1 0 0 1 0 0 0 0 0 1 1 1]\n"
          ],
          "name": "stdout"
        }
      ]
    }
  ]
}